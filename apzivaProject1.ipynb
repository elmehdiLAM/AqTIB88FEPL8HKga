{
  "nbformat": 4,
  "nbformat_minor": 0,
  "metadata": {
    "colab": {
      "name": "apzivaProject1.ipynb",
      "provenance": []
    },
    "kernelspec": {
      "name": "python3",
      "display_name": "Python 3"
    }
  },
  "cells": [
    {
      "cell_type": "code",
      "metadata": {
        "id": "jJHiAlXkDF2J"
      },
      "source": [
        "from sklearn.model_selection import train_test_split\r\n",
        "import pandas as pd\r\n"
      ],
      "execution_count": 1,
      "outputs": []
    },
    {
      "cell_type": "code",
      "metadata": {
        "id": "vZawODjNGGae"
      },
      "source": [
        "data=pd.read_csv('ACME.csv')"
      ],
      "execution_count": 3,
      "outputs": []
    },
    {
      "cell_type": "markdown",
      "metadata": {
        "id": "gIGbjSsWQnsX"
      },
      "source": [
        "## understanding data"
      ]
    },
    {
      "cell_type": "code",
      "metadata": {
        "colab": {
          "base_uri": "https://localhost:8080/",
          "height": 363
        },
        "id": "LLDnA_Woybnq",
        "outputId": "7417c1cf-1542-494b-b0c3-d0b5e56ecd9f"
      },
      "source": [
        "data.head(10)"
      ],
      "execution_count": 10,
      "outputs": [
        {
          "output_type": "execute_result",
          "data": {
            "text/html": [
              "<div>\n",
              "<style scoped>\n",
              "    .dataframe tbody tr th:only-of-type {\n",
              "        vertical-align: middle;\n",
              "    }\n",
              "\n",
              "    .dataframe tbody tr th {\n",
              "        vertical-align: top;\n",
              "    }\n",
              "\n",
              "    .dataframe thead th {\n",
              "        text-align: right;\n",
              "    }\n",
              "</style>\n",
              "<table border=\"1\" class=\"dataframe\">\n",
              "  <thead>\n",
              "    <tr style=\"text-align: right;\">\n",
              "      <th></th>\n",
              "      <th>Y</th>\n",
              "      <th>X1</th>\n",
              "      <th>X2</th>\n",
              "      <th>X3</th>\n",
              "      <th>X4</th>\n",
              "      <th>X5</th>\n",
              "      <th>X6</th>\n",
              "    </tr>\n",
              "  </thead>\n",
              "  <tbody>\n",
              "    <tr>\n",
              "      <th>0</th>\n",
              "      <td>0</td>\n",
              "      <td>3</td>\n",
              "      <td>3</td>\n",
              "      <td>3</td>\n",
              "      <td>4</td>\n",
              "      <td>2</td>\n",
              "      <td>4</td>\n",
              "    </tr>\n",
              "    <tr>\n",
              "      <th>1</th>\n",
              "      <td>0</td>\n",
              "      <td>3</td>\n",
              "      <td>2</td>\n",
              "      <td>3</td>\n",
              "      <td>5</td>\n",
              "      <td>4</td>\n",
              "      <td>3</td>\n",
              "    </tr>\n",
              "    <tr>\n",
              "      <th>2</th>\n",
              "      <td>1</td>\n",
              "      <td>5</td>\n",
              "      <td>3</td>\n",
              "      <td>3</td>\n",
              "      <td>3</td>\n",
              "      <td>3</td>\n",
              "      <td>5</td>\n",
              "    </tr>\n",
              "    <tr>\n",
              "      <th>3</th>\n",
              "      <td>0</td>\n",
              "      <td>5</td>\n",
              "      <td>4</td>\n",
              "      <td>3</td>\n",
              "      <td>3</td>\n",
              "      <td>3</td>\n",
              "      <td>5</td>\n",
              "    </tr>\n",
              "    <tr>\n",
              "      <th>4</th>\n",
              "      <td>0</td>\n",
              "      <td>5</td>\n",
              "      <td>4</td>\n",
              "      <td>3</td>\n",
              "      <td>3</td>\n",
              "      <td>3</td>\n",
              "      <td>5</td>\n",
              "    </tr>\n",
              "    <tr>\n",
              "      <th>5</th>\n",
              "      <td>1</td>\n",
              "      <td>5</td>\n",
              "      <td>5</td>\n",
              "      <td>3</td>\n",
              "      <td>5</td>\n",
              "      <td>5</td>\n",
              "      <td>5</td>\n",
              "    </tr>\n",
              "    <tr>\n",
              "      <th>6</th>\n",
              "      <td>0</td>\n",
              "      <td>3</td>\n",
              "      <td>1</td>\n",
              "      <td>2</td>\n",
              "      <td>2</td>\n",
              "      <td>1</td>\n",
              "      <td>3</td>\n",
              "    </tr>\n",
              "    <tr>\n",
              "      <th>7</th>\n",
              "      <td>1</td>\n",
              "      <td>5</td>\n",
              "      <td>4</td>\n",
              "      <td>4</td>\n",
              "      <td>4</td>\n",
              "      <td>4</td>\n",
              "      <td>5</td>\n",
              "    </tr>\n",
              "    <tr>\n",
              "      <th>8</th>\n",
              "      <td>0</td>\n",
              "      <td>4</td>\n",
              "      <td>1</td>\n",
              "      <td>4</td>\n",
              "      <td>4</td>\n",
              "      <td>4</td>\n",
              "      <td>4</td>\n",
              "    </tr>\n",
              "    <tr>\n",
              "      <th>9</th>\n",
              "      <td>0</td>\n",
              "      <td>4</td>\n",
              "      <td>4</td>\n",
              "      <td>4</td>\n",
              "      <td>2</td>\n",
              "      <td>5</td>\n",
              "      <td>5</td>\n",
              "    </tr>\n",
              "  </tbody>\n",
              "</table>\n",
              "</div>"
            ],
            "text/plain": [
              "   Y  X1  X2  X3  X4  X5  X6\n",
              "0  0   3   3   3   4   2   4\n",
              "1  0   3   2   3   5   4   3\n",
              "2  1   5   3   3   3   3   5\n",
              "3  0   5   4   3   3   3   5\n",
              "4  0   5   4   3   3   3   5\n",
              "5  1   5   5   3   5   5   5\n",
              "6  0   3   1   2   2   1   3\n",
              "7  1   5   4   4   4   4   5\n",
              "8  0   4   1   4   4   4   4\n",
              "9  0   4   4   4   2   5   5"
            ]
          },
          "metadata": {
            "tags": []
          },
          "execution_count": 10
        }
      ]
    },
    {
      "cell_type": "code",
      "metadata": {
        "colab": {
          "base_uri": "https://localhost:8080/"
        },
        "id": "mhV2rat1HODp",
        "outputId": "294f4a82-467c-4b63-8d4a-8eb08586a97c"
      },
      "source": [
        "\r\n",
        "print(data.shape) # from this : 20% of data will be a good part for testing"
      ],
      "execution_count": 8,
      "outputs": [
        {
          "output_type": "stream",
          "text": [
            "(126, 7)\n"
          ],
          "name": "stdout"
        }
      ]
    },
    {
      "cell_type": "code",
      "metadata": {
        "colab": {
          "base_uri": "https://localhost:8080/",
          "height": 300
        },
        "id": "Q_3Qv7w4yWf4",
        "outputId": "ddd08172-ae95-4609-f90e-cad7af0573ed"
      },
      "source": [
        "data.describe()"
      ],
      "execution_count": 9,
      "outputs": [
        {
          "output_type": "execute_result",
          "data": {
            "text/html": [
              "<div>\n",
              "<style scoped>\n",
              "    .dataframe tbody tr th:only-of-type {\n",
              "        vertical-align: middle;\n",
              "    }\n",
              "\n",
              "    .dataframe tbody tr th {\n",
              "        vertical-align: top;\n",
              "    }\n",
              "\n",
              "    .dataframe thead th {\n",
              "        text-align: right;\n",
              "    }\n",
              "</style>\n",
              "<table border=\"1\" class=\"dataframe\">\n",
              "  <thead>\n",
              "    <tr style=\"text-align: right;\">\n",
              "      <th></th>\n",
              "      <th>Y</th>\n",
              "      <th>X1</th>\n",
              "      <th>X2</th>\n",
              "      <th>X3</th>\n",
              "      <th>X4</th>\n",
              "      <th>X5</th>\n",
              "      <th>X6</th>\n",
              "    </tr>\n",
              "  </thead>\n",
              "  <tbody>\n",
              "    <tr>\n",
              "      <th>count</th>\n",
              "      <td>126.000000</td>\n",
              "      <td>126.000000</td>\n",
              "      <td>126.000000</td>\n",
              "      <td>126.000000</td>\n",
              "      <td>126.000000</td>\n",
              "      <td>126.000000</td>\n",
              "      <td>126.000000</td>\n",
              "    </tr>\n",
              "    <tr>\n",
              "      <th>mean</th>\n",
              "      <td>0.547619</td>\n",
              "      <td>4.333333</td>\n",
              "      <td>2.531746</td>\n",
              "      <td>3.309524</td>\n",
              "      <td>3.746032</td>\n",
              "      <td>3.650794</td>\n",
              "      <td>4.253968</td>\n",
              "    </tr>\n",
              "    <tr>\n",
              "      <th>std</th>\n",
              "      <td>0.499714</td>\n",
              "      <td>0.800000</td>\n",
              "      <td>1.114892</td>\n",
              "      <td>1.023440</td>\n",
              "      <td>0.875776</td>\n",
              "      <td>1.147641</td>\n",
              "      <td>0.809311</td>\n",
              "    </tr>\n",
              "    <tr>\n",
              "      <th>min</th>\n",
              "      <td>0.000000</td>\n",
              "      <td>1.000000</td>\n",
              "      <td>1.000000</td>\n",
              "      <td>1.000000</td>\n",
              "      <td>1.000000</td>\n",
              "      <td>1.000000</td>\n",
              "      <td>1.000000</td>\n",
              "    </tr>\n",
              "    <tr>\n",
              "      <th>25%</th>\n",
              "      <td>0.000000</td>\n",
              "      <td>4.000000</td>\n",
              "      <td>2.000000</td>\n",
              "      <td>3.000000</td>\n",
              "      <td>3.000000</td>\n",
              "      <td>3.000000</td>\n",
              "      <td>4.000000</td>\n",
              "    </tr>\n",
              "    <tr>\n",
              "      <th>50%</th>\n",
              "      <td>1.000000</td>\n",
              "      <td>5.000000</td>\n",
              "      <td>3.000000</td>\n",
              "      <td>3.000000</td>\n",
              "      <td>4.000000</td>\n",
              "      <td>4.000000</td>\n",
              "      <td>4.000000</td>\n",
              "    </tr>\n",
              "    <tr>\n",
              "      <th>75%</th>\n",
              "      <td>1.000000</td>\n",
              "      <td>5.000000</td>\n",
              "      <td>3.000000</td>\n",
              "      <td>4.000000</td>\n",
              "      <td>4.000000</td>\n",
              "      <td>4.000000</td>\n",
              "      <td>5.000000</td>\n",
              "    </tr>\n",
              "    <tr>\n",
              "      <th>max</th>\n",
              "      <td>1.000000</td>\n",
              "      <td>5.000000</td>\n",
              "      <td>5.000000</td>\n",
              "      <td>5.000000</td>\n",
              "      <td>5.000000</td>\n",
              "      <td>5.000000</td>\n",
              "      <td>5.000000</td>\n",
              "    </tr>\n",
              "  </tbody>\n",
              "</table>\n",
              "</div>"
            ],
            "text/plain": [
              "                Y          X1          X2  ...          X4          X5          X6\n",
              "count  126.000000  126.000000  126.000000  ...  126.000000  126.000000  126.000000\n",
              "mean     0.547619    4.333333    2.531746  ...    3.746032    3.650794    4.253968\n",
              "std      0.499714    0.800000    1.114892  ...    0.875776    1.147641    0.809311\n",
              "min      0.000000    1.000000    1.000000  ...    1.000000    1.000000    1.000000\n",
              "25%      0.000000    4.000000    2.000000  ...    3.000000    3.000000    4.000000\n",
              "50%      1.000000    5.000000    3.000000  ...    4.000000    4.000000    4.000000\n",
              "75%      1.000000    5.000000    3.000000  ...    4.000000    4.000000    5.000000\n",
              "max      1.000000    5.000000    5.000000  ...    5.000000    5.000000    5.000000\n",
              "\n",
              "[8 rows x 7 columns]"
            ]
          },
          "metadata": {
            "tags": []
          },
          "execution_count": 9
        }
      ]
    },
    {
      "cell_type": "code",
      "metadata": {
        "colab": {
          "base_uri": "https://localhost:8080/",
          "height": 296
        },
        "id": "aNodlGikHjOr",
        "outputId": "225a695f-fd27-4a9a-f9f9-f251a1a46337"
      },
      "source": [
        "import matplotlib.pyplot as plt\r\n",
        "number_of_occurence = data[\"Y\"].value_counts()\r\n",
        "number_of_occurence.plot(kind='bar',title=\"number of occurence \")"
      ],
      "execution_count": 16,
      "outputs": [
        {
          "output_type": "execute_result",
          "data": {
            "text/plain": [
              "<matplotlib.axes._subplots.AxesSubplot at 0x7f042e0e24e0>"
            ]
          },
          "metadata": {
            "tags": []
          },
          "execution_count": 16
        },
        {
          "output_type": "display_data",
          "data": {
            "image/png": "[encoded data removed]",
            "text/plain": [
              "<Figure size 432x288 with 1 Axes>"
            ]
          },
          "metadata": {
            "tags": [],
            "needs_background": "light"
          }
        }
      ]
    },
    {
      "cell_type": "code",
      "metadata": {
        "colab": {
          "base_uri": "https://localhost:8080/",
          "height": 206
        },
        "id": "BhBLpqYaHmu2",
        "outputId": "7a6a14fc-3b5a-4e68-f896-b478e7fcac4d"
      },
      "source": [
        "dataframe_disatidfied = data.where(data[\"Y\"]==0).dropna()\r\n",
        "dataframe_satidfied = data.where(data[\"Y\"]==1).dropna()\r\n",
        "dataframe_satidfied.head()\r\n",
        "#dataframe_disatidfied.head()"
      ],
      "execution_count": 21,
      "outputs": [
        {
          "output_type": "execute_result",
          "data": {
            "text/html": [
              "<div>\n",
              "<style scoped>\n",
              "    .dataframe tbody tr th:only-of-type {\n",
              "        vertical-align: middle;\n",
              "    }\n",
              "\n",
              "    .dataframe tbody tr th {\n",
              "        vertical-align: top;\n",
              "    }\n",
              "\n",
              "    .dataframe thead th {\n",
              "        text-align: right;\n",
              "    }\n",
              "</style>\n",
              "<table border=\"1\" class=\"dataframe\">\n",
              "  <thead>\n",
              "    <tr style=\"text-align: right;\">\n",
              "      <th></th>\n",
              "      <th>Y</th>\n",
              "      <th>X1</th>\n",
              "      <th>X2</th>\n",
              "      <th>X3</th>\n",
              "      <th>X4</th>\n",
              "      <th>X5</th>\n",
              "      <th>X6</th>\n",
              "    </tr>\n",
              "  </thead>\n",
              "  <tbody>\n",
              "    <tr>\n",
              "      <th>2</th>\n",
              "      <td>1.0</td>\n",
              "      <td>5.0</td>\n",
              "      <td>3.0</td>\n",
              "      <td>3.0</td>\n",
              "      <td>3.0</td>\n",
              "      <td>3.0</td>\n",
              "      <td>5.0</td>\n",
              "    </tr>\n",
              "    <tr>\n",
              "      <th>5</th>\n",
              "      <td>1.0</td>\n",
              "      <td>5.0</td>\n",
              "      <td>5.0</td>\n",
              "      <td>3.0</td>\n",
              "      <td>5.0</td>\n",
              "      <td>5.0</td>\n",
              "      <td>5.0</td>\n",
              "    </tr>\n",
              "    <tr>\n",
              "      <th>7</th>\n",
              "      <td>1.0</td>\n",
              "      <td>5.0</td>\n",
              "      <td>4.0</td>\n",
              "      <td>4.0</td>\n",
              "      <td>4.0</td>\n",
              "      <td>4.0</td>\n",
              "      <td>5.0</td>\n",
              "    </tr>\n",
              "    <tr>\n",
              "      <th>12</th>\n",
              "      <td>1.0</td>\n",
              "      <td>5.0</td>\n",
              "      <td>2.0</td>\n",
              "      <td>4.0</td>\n",
              "      <td>5.0</td>\n",
              "      <td>5.0</td>\n",
              "      <td>5.0</td>\n",
              "    </tr>\n",
              "    <tr>\n",
              "      <th>15</th>\n",
              "      <td>1.0</td>\n",
              "      <td>3.0</td>\n",
              "      <td>2.0</td>\n",
              "      <td>4.0</td>\n",
              "      <td>3.0</td>\n",
              "      <td>4.0</td>\n",
              "      <td>4.0</td>\n",
              "    </tr>\n",
              "  </tbody>\n",
              "</table>\n",
              "</div>"
            ],
            "text/plain": [
              "      Y   X1   X2   X3   X4   X5   X6\n",
              "2   1.0  5.0  3.0  3.0  3.0  3.0  5.0\n",
              "5   1.0  5.0  5.0  3.0  5.0  5.0  5.0\n",
              "7   1.0  5.0  4.0  4.0  4.0  4.0  5.0\n",
              "12  1.0  5.0  2.0  4.0  5.0  5.0  5.0\n",
              "15  1.0  3.0  2.0  4.0  3.0  4.0  4.0"
            ]
          },
          "metadata": {
            "tags": []
          },
          "execution_count": 21
        }
      ]
    },
    {
      "cell_type": "code",
      "metadata": {
        "colab": {
          "base_uri": "https://localhost:8080/",
          "height": 300
        },
        "id": "LWPZ5yTDKf0X",
        "outputId": "a04a787c-bea0-47f2-b30a-d3f5cfe6c671"
      },
      "source": [
        "dataframe_satidfied.describe()"
      ],
      "execution_count": 22,
      "outputs": [
        {
          "output_type": "execute_result",
          "data": {
            "text/html": [
              "<div>\n",
              "<style scoped>\n",
              "    .dataframe tbody tr th:only-of-type {\n",
              "        vertical-align: middle;\n",
              "    }\n",
              "\n",
              "    .dataframe tbody tr th {\n",
              "        vertical-align: top;\n",
              "    }\n",
              "\n",
              "    .dataframe thead th {\n",
              "        text-align: right;\n",
              "    }\n",
              "</style>\n",
              "<table border=\"1\" class=\"dataframe\">\n",
              "  <thead>\n",
              "    <tr style=\"text-align: right;\">\n",
              "      <th></th>\n",
              "      <th>Y</th>\n",
              "      <th>X1</th>\n",
              "      <th>X2</th>\n",
              "      <th>X3</th>\n",
              "      <th>X4</th>\n",
              "      <th>X5</th>\n",
              "      <th>X6</th>\n",
              "    </tr>\n",
              "  </thead>\n",
              "  <tbody>\n",
              "    <tr>\n",
              "      <th>count</th>\n",
              "      <td>69.0</td>\n",
              "      <td>69.000000</td>\n",
              "      <td>69.000000</td>\n",
              "      <td>69.000000</td>\n",
              "      <td>69.000000</td>\n",
              "      <td>69.000000</td>\n",
              "      <td>69.000000</td>\n",
              "    </tr>\n",
              "    <tr>\n",
              "      <th>mean</th>\n",
              "      <td>1.0</td>\n",
              "      <td>4.536232</td>\n",
              "      <td>2.507246</td>\n",
              "      <td>3.449275</td>\n",
              "      <td>3.797101</td>\n",
              "      <td>3.884058</td>\n",
              "      <td>4.376812</td>\n",
              "    </tr>\n",
              "    <tr>\n",
              "      <th>std</th>\n",
              "      <td>0.0</td>\n",
              "      <td>0.698311</td>\n",
              "      <td>1.106441</td>\n",
              "      <td>1.022342</td>\n",
              "      <td>0.900649</td>\n",
              "      <td>1.064621</td>\n",
              "      <td>0.768908</td>\n",
              "    </tr>\n",
              "    <tr>\n",
              "      <th>min</th>\n",
              "      <td>1.0</td>\n",
              "      <td>3.000000</td>\n",
              "      <td>1.000000</td>\n",
              "      <td>1.000000</td>\n",
              "      <td>1.000000</td>\n",
              "      <td>1.000000</td>\n",
              "      <td>1.000000</td>\n",
              "    </tr>\n",
              "    <tr>\n",
              "      <th>25%</th>\n",
              "      <td>1.0</td>\n",
              "      <td>4.000000</td>\n",
              "      <td>2.000000</td>\n",
              "      <td>3.000000</td>\n",
              "      <td>3.000000</td>\n",
              "      <td>3.000000</td>\n",
              "      <td>4.000000</td>\n",
              "    </tr>\n",
              "    <tr>\n",
              "      <th>50%</th>\n",
              "      <td>1.0</td>\n",
              "      <td>5.000000</td>\n",
              "      <td>2.000000</td>\n",
              "      <td>3.000000</td>\n",
              "      <td>4.000000</td>\n",
              "      <td>4.000000</td>\n",
              "      <td>5.000000</td>\n",
              "    </tr>\n",
              "    <tr>\n",
              "      <th>75%</th>\n",
              "      <td>1.0</td>\n",
              "      <td>5.000000</td>\n",
              "      <td>3.000000</td>\n",
              "      <td>4.000000</td>\n",
              "      <td>4.000000</td>\n",
              "      <td>5.000000</td>\n",
              "      <td>5.000000</td>\n",
              "    </tr>\n",
              "    <tr>\n",
              "      <th>max</th>\n",
              "      <td>1.0</td>\n",
              "      <td>5.000000</td>\n",
              "      <td>5.000000</td>\n",
              "      <td>5.000000</td>\n",
              "      <td>5.000000</td>\n",
              "      <td>5.000000</td>\n",
              "      <td>5.000000</td>\n",
              "    </tr>\n",
              "  </tbody>\n",
              "</table>\n",
              "</div>"
            ],
            "text/plain": [
              "          Y         X1         X2         X3         X4         X5         X6\n",
              "count  69.0  69.000000  69.000000  69.000000  69.000000  69.000000  69.000000\n",
              "mean    1.0   4.536232   2.507246   3.449275   3.797101   3.884058   4.376812\n",
              "std     0.0   0.698311   1.106441   1.022342   0.900649   1.064621   0.768908\n",
              "min     1.0   3.000000   1.000000   1.000000   1.000000   1.000000   1.000000\n",
              "25%     1.0   4.000000   2.000000   3.000000   3.000000   3.000000   4.000000\n",
              "50%     1.0   5.000000   2.000000   3.000000   4.000000   4.000000   5.000000\n",
              "75%     1.0   5.000000   3.000000   4.000000   4.000000   5.000000   5.000000\n",
              "max     1.0   5.000000   5.000000   5.000000   5.000000   5.000000   5.000000"
            ]
          },
          "metadata": {
            "tags": []
          },
          "execution_count": 22
        }
      ]
    },
    {
      "cell_type": "code",
      "metadata": {
        "colab": {
          "base_uri": "https://localhost:8080/",
          "height": 300
        },
        "id": "p-_WBqAcJIed",
        "outputId": "b74c3e41-8085-4a1e-90c2-27633831cf45"
      },
      "source": [
        "dataframe_disatidfied.describe()"
      ],
      "execution_count": 23,
      "outputs": [
        {
          "output_type": "execute_result",
          "data": {
            "text/html": [
              "<div>\n",
              "<style scoped>\n",
              "    .dataframe tbody tr th:only-of-type {\n",
              "        vertical-align: middle;\n",
              "    }\n",
              "\n",
              "    .dataframe tbody tr th {\n",
              "        vertical-align: top;\n",
              "    }\n",
              "\n",
              "    .dataframe thead th {\n",
              "        text-align: right;\n",
              "    }\n",
              "</style>\n",
              "<table border=\"1\" class=\"dataframe\">\n",
              "  <thead>\n",
              "    <tr style=\"text-align: right;\">\n",
              "      <th></th>\n",
              "      <th>Y</th>\n",
              "      <th>X1</th>\n",
              "      <th>X2</th>\n",
              "      <th>X3</th>\n",
              "      <th>X4</th>\n",
              "      <th>X5</th>\n",
              "      <th>X6</th>\n",
              "    </tr>\n",
              "  </thead>\n",
              "  <tbody>\n",
              "    <tr>\n",
              "      <th>count</th>\n",
              "      <td>57.0</td>\n",
              "      <td>57.000000</td>\n",
              "      <td>57.000000</td>\n",
              "      <td>57.000000</td>\n",
              "      <td>57.000000</td>\n",
              "      <td>57.000000</td>\n",
              "      <td>57.000000</td>\n",
              "    </tr>\n",
              "    <tr>\n",
              "      <th>mean</th>\n",
              "      <td>0.0</td>\n",
              "      <td>4.087719</td>\n",
              "      <td>2.561404</td>\n",
              "      <td>3.140351</td>\n",
              "      <td>3.684211</td>\n",
              "      <td>3.368421</td>\n",
              "      <td>4.105263</td>\n",
              "    </tr>\n",
              "    <tr>\n",
              "      <th>std</th>\n",
              "      <td>0.0</td>\n",
              "      <td>0.851064</td>\n",
              "      <td>1.134170</td>\n",
              "      <td>1.007802</td>\n",
              "      <td>0.848484</td>\n",
              "      <td>1.189712</td>\n",
              "      <td>0.838455</td>\n",
              "    </tr>\n",
              "    <tr>\n",
              "      <th>min</th>\n",
              "      <td>0.0</td>\n",
              "      <td>1.000000</td>\n",
              "      <td>1.000000</td>\n",
              "      <td>1.000000</td>\n",
              "      <td>2.000000</td>\n",
              "      <td>1.000000</td>\n",
              "      <td>2.000000</td>\n",
              "    </tr>\n",
              "    <tr>\n",
              "      <th>25%</th>\n",
              "      <td>0.0</td>\n",
              "      <td>4.000000</td>\n",
              "      <td>2.000000</td>\n",
              "      <td>3.000000</td>\n",
              "      <td>3.000000</td>\n",
              "      <td>3.000000</td>\n",
              "      <td>3.000000</td>\n",
              "    </tr>\n",
              "    <tr>\n",
              "      <th>50%</th>\n",
              "      <td>0.0</td>\n",
              "      <td>4.000000</td>\n",
              "      <td>3.000000</td>\n",
              "      <td>3.000000</td>\n",
              "      <td>4.000000</td>\n",
              "      <td>4.000000</td>\n",
              "      <td>4.000000</td>\n",
              "    </tr>\n",
              "    <tr>\n",
              "      <th>75%</th>\n",
              "      <td>0.0</td>\n",
              "      <td>5.000000</td>\n",
              "      <td>3.000000</td>\n",
              "      <td>4.000000</td>\n",
              "      <td>4.000000</td>\n",
              "      <td>4.000000</td>\n",
              "      <td>5.000000</td>\n",
              "    </tr>\n",
              "    <tr>\n",
              "      <th>max</th>\n",
              "      <td>0.0</td>\n",
              "      <td>5.000000</td>\n",
              "      <td>5.000000</td>\n",
              "      <td>5.000000</td>\n",
              "      <td>5.000000</td>\n",
              "      <td>5.000000</td>\n",
              "      <td>5.000000</td>\n",
              "    </tr>\n",
              "  </tbody>\n",
              "</table>\n",
              "</div>"
            ],
            "text/plain": [
              "          Y         X1         X2         X3         X4         X5         X6\n",
              "count  57.0  57.000000  57.000000  57.000000  57.000000  57.000000  57.000000\n",
              "mean    0.0   4.087719   2.561404   3.140351   3.684211   3.368421   4.105263\n",
              "std     0.0   0.851064   1.134170   1.007802   0.848484   1.189712   0.838455\n",
              "min     0.0   1.000000   1.000000   1.000000   2.000000   1.000000   2.000000\n",
              "25%     0.0   4.000000   2.000000   3.000000   3.000000   3.000000   3.000000\n",
              "50%     0.0   4.000000   3.000000   3.000000   4.000000   4.000000   4.000000\n",
              "75%     0.0   5.000000   3.000000   4.000000   4.000000   4.000000   5.000000\n",
              "max     0.0   5.000000   5.000000   5.000000   5.000000   5.000000   5.000000"
            ]
          },
          "metadata": {
            "tags": []
          },
          "execution_count": 23
        }
      ]
    },
    {
      "cell_type": "markdown",
      "metadata": {
        "id": "V2xh-swPL3td"
      },
      "source": [
        "from those two tables we can notice that all feautures have impact on satisfaction mark, so we can't decrease number of features"
      ]
    },
    {
      "cell_type": "markdown",
      "metadata": {
        "id": "ezU3Sx-gM-Jv"
      },
      "source": [
        "## spliting data"
      ]
    },
    {
      "cell_type": "code",
      "metadata": {
        "colab": {
          "base_uri": "https://localhost:8080/"
        },
        "id": "79KfM7ihJDTL",
        "outputId": "02b76014-1605-4dd3-d21f-266e5c93903a"
      },
      "source": [
        "data = data.values\r\n"
      ],
      "execution_count": 31,
      "outputs": [
        {
          "output_type": "execute_result",
          "data": {
            "text/plain": [
              "array([[0, 3, 3, 3, 4, 2, 4],\n",
              "       [0, 3, 2, 3, 5, 4, 3],\n",
              "       [1, 5, 3, 3, 3, 3, 5],\n",
              "       [0, 5, 4, 3, 3, 3, 5],\n",
              "       [0, 5, 4, 3, 3, 3, 5],\n",
              "       [1, 5, 5, 3, 5, 5, 5],\n",
              "       [0, 3, 1, 2, 2, 1, 3],\n",
              "       [1, 5, 4, 4, 4, 4, 5],\n",
              "       [0, 4, 1, 4, 4, 4, 4],\n",
              "       [0, 4, 4, 4, 2, 5, 5],\n",
              "       [0, 3, 2, 3, 3, 2, 3],\n",
              "       [0, 4, 4, 3, 4, 4, 4],\n",
              "       [1, 5, 2, 4, 5, 5, 5],\n",
              "       [0, 4, 2, 4, 5, 4, 3],\n",
              "       [0, 4, 1, 3, 3, 4, 3],\n",
              "       [1, 3, 2, 4, 3, 4, 4],\n",
              "       [0, 5, 3, 4, 5, 4, 5],\n",
              "       [1, 5, 1, 4, 3, 4, 5],\n",
              "       [0, 5, 1, 2, 4, 4, 5],\n",
              "       [0, 4, 2, 4, 4, 4, 4],\n",
              "       [1, 4, 2, 3, 3, 4, 4],\n",
              "       [0, 4, 3, 5, 5, 5, 4],\n",
              "       [0, 4, 3, 5, 5, 5, 4],\n",
              "       [1, 5, 1, 2, 5, 2, 4],\n",
              "       [1, 4, 3, 3, 3, 3, 4],\n",
              "       [0, 3, 4, 3, 3, 2, 3],\n",
              "       [1, 3, 3, 3, 5, 5, 5],\n",
              "       [1, 3, 3, 1, 3, 3, 4],\n",
              "       [1, 3, 3, 1, 3, 3, 4],\n",
              "       [1, 5, 3, 3, 3, 5, 3],\n",
              "       [0, 5, 3, 3, 3, 5, 3],\n",
              "       [0, 4, 1, 3, 4, 4, 5],\n",
              "       [1, 3, 2, 4, 4, 4, 5],\n",
              "       [1, 3, 2, 4, 4, 4, 5],\n",
              "       [1, 4, 1, 3, 1, 1, 4],\n",
              "       [0, 4, 2, 3, 3, 4, 4],\n",
              "       [1, 5, 3, 4, 3, 4, 5],\n",
              "       [1, 5, 3, 4, 3, 4, 5],\n",
              "       [1, 5, 2, 3, 3, 2, 5],\n",
              "       [1, 4, 4, 3, 4, 2, 4],\n",
              "       [0, 5, 2, 3, 3, 3, 3],\n",
              "       [1, 4, 2, 4, 3, 2, 4],\n",
              "       [0, 5, 2, 3, 3, 4, 5],\n",
              "       [0, 4, 3, 3, 4, 2, 4],\n",
              "       [1, 3, 1, 2, 4, 3, 5],\n",
              "       [1, 5, 3, 4, 4, 4, 5],\n",
              "       [1, 5, 3, 3, 4, 4, 5],\n",
              "       [0, 1, 1, 1, 3, 1, 4],\n",
              "       [1, 5, 2, 5, 5, 5, 3],\n",
              "       [1, 5, 1, 3, 3, 4, 4],\n",
              "       [1, 5, 1, 3, 3, 4, 4],\n",
              "       [1, 5, 1, 3, 3, 4, 4],\n",
              "       [1, 5, 2, 4, 3, 4, 5],\n",
              "       [1, 5, 2, 4, 3, 4, 5],\n",
              "       [1, 4, 3, 2, 4, 3, 4],\n",
              "       [1, 4, 3, 2, 4, 3, 4],\n",
              "       [0, 5, 1, 1, 5, 3, 5],\n",
              "       [0, 4, 4, 4, 4, 3, 4],\n",
              "       [1, 5, 3, 5, 5, 4, 5],\n",
              "       [1, 5, 2, 4, 2, 2, 4],\n",
              "       [0, 4, 3, 3, 3, 3, 5],\n",
              "       [1, 5, 2, 4, 4, 5, 5],\n",
              "       [1, 5, 2, 4, 4, 5, 5],\n",
              "       [0, 5, 5, 5, 2, 5, 5],\n",
              "       [1, 4, 1, 3, 4, 4, 4],\n",
              "       [1, 4, 1, 3, 4, 4, 4],\n",
              "       [0, 3, 3, 3, 5, 4, 3],\n",
              "       [0, 4, 1, 1, 3, 4, 4],\n",
              "       [1, 5, 1, 5, 5, 5, 5],\n",
              "       [1, 5, 4, 5, 5, 5, 5],\n",
              "       [1, 4, 3, 3, 4, 3, 4],\n",
              "       [0, 4, 5, 5, 5, 1, 3],\n",
              "       [1, 4, 3, 3, 4, 2, 4],\n",
              "       [0, 5, 2, 3, 3, 2, 5],\n",
              "       [1, 5, 2, 5, 5, 5, 5],\n",
              "       [0, 3, 2, 3, 3, 4, 4],\n",
              "       [0, 4, 3, 2, 3, 2, 4],\n",
              "       [1, 5, 2, 3, 5, 5, 5],\n",
              "       [0, 5, 3, 3, 3, 2, 5],\n",
              "       [1, 5, 5, 5, 5, 5, 5],\n",
              "       [1, 4, 3, 2, 4, 4, 4],\n",
              "       [0, 3, 3, 3, 3, 3, 4],\n",
              "       [1, 4, 2, 4, 4, 4, 4],\n",
              "       [1, 5, 3, 2, 4, 4, 4],\n",
              "       [0, 4, 3, 4, 4, 2, 4],\n",
              "       [1, 5, 2, 3, 4, 4, 5],\n",
              "       [1, 5, 3, 3, 3, 5, 5],\n",
              "       [0, 4, 1, 3, 4, 4, 3],\n",
              "       [0, 5, 4, 2, 4, 3, 5],\n",
              "       [0, 3, 3, 1, 3, 2, 3],\n",
              "       [0, 3, 4, 5, 4, 5, 4],\n",
              "       [1, 5, 1, 3, 4, 5, 5],\n",
              "       [1, 5, 4, 5, 5, 5, 4],\n",
              "       [1, 5, 4, 4, 4, 4, 5],\n",
              "       [0, 3, 1, 3, 2, 1, 2],\n",
              "       [1, 5, 5, 5, 5, 5, 5],\n",
              "       [0, 4, 4, 3, 4, 3, 3],\n",
              "       [1, 5, 4, 5, 4, 5, 4],\n",
              "       [1, 4, 2, 3, 4, 3, 3],\n",
              "       [0, 3, 3, 2, 4, 4, 4],\n",
              "       [1, 5, 2, 2, 4, 5, 5],\n",
              "       [1, 5, 3, 4, 3, 4, 3],\n",
              "       [0, 5, 2, 3, 3, 3, 5],\n",
              "       [1, 4, 3, 4, 4, 3, 4],\n",
              "       [0, 4, 1, 3, 5, 3, 5],\n",
              "       [1, 5, 1, 4, 3, 5, 5],\n",
              "       [1, 5, 1, 5, 3, 5, 5],\n",
              "       [0, 4, 2, 4, 4, 4, 4],\n",
              "       [0, 5, 2, 4, 4, 5, 5],\n",
              "       [1, 5, 3, 4, 4, 4, 4],\n",
              "       [0, 5, 3, 3, 4, 4, 5],\n",
              "       [0, 5, 3, 3, 4, 4, 4],\n",
              "       [0, 4, 1, 3, 3, 3, 4],\n",
              "       [0, 5, 1, 4, 4, 4, 5],\n",
              "       [0, 5, 2, 2, 4, 4, 5],\n",
              "       [0, 5, 3, 5, 4, 5, 5],\n",
              "       [1, 3, 4, 4, 5, 1, 3],\n",
              "       [1, 5, 1, 5, 5, 5, 5],\n",
              "       [1, 4, 3, 3, 4, 4, 4],\n",
              "       [1, 5, 5, 1, 1, 5, 1],\n",
              "       [0, 4, 4, 4, 4, 1, 3],\n",
              "       [1, 5, 2, 3, 4, 4, 3],\n",
              "       [1, 5, 2, 3, 4, 2, 5],\n",
              "       [1, 5, 3, 3, 4, 4, 5],\n",
              "       [0, 4, 3, 3, 4, 4, 5],\n",
              "       [0, 5, 3, 2, 5, 5, 5]])"
            ]
          },
          "metadata": {
            "tags": []
          },
          "execution_count": 31
        }
      ]
    },
    {
      "cell_type": "code",
      "metadata": {
        "colab": {
          "base_uri": "https://localhost:8080/"
        },
        "id": "ST-VVDytPgzS",
        "outputId": "a3caaf49-d121-40a9-cb8c-c8aa0f61d854"
      },
      "source": [
        "y,X= data[:,0],data[:,1:-1]\r\n",
        "print(X.shape)\r\n",
        "print(y.shape)"
      ],
      "execution_count": 34,
      "outputs": [
        {
          "output_type": "stream",
          "text": [
            "(126, 5)\n",
            "(126,)\n"
          ],
          "name": "stdout"
        }
      ]
    },
    {
      "cell_type": "code",
      "metadata": {
        "id": "omeN5r0jM13y"
      },
      "source": [
        "X_train, X_test, y_train, y_test = train_test_split(X, y, test_size=.2, random_state=42)"
      ],
      "execution_count": 36,
      "outputs": []
    },
    {
      "cell_type": "code",
      "metadata": {
        "colab": {
          "base_uri": "https://localhost:8080/"
        },
        "id": "t2aYV4SgQFKU",
        "outputId": "af2b7508-0fd1-4fe2-d02a-b04b30e5163c"
      },
      "source": [
        "print(X_train.shape)\r\n",
        "print(X_test.shape)\r\n",
        "print(y_train.shape)\r\n",
        "print(y_test.shape)"
      ],
      "execution_count": 37,
      "outputs": [
        {
          "output_type": "stream",
          "text": [
            "(100, 5)\n",
            "(26, 5)\n",
            "(100,)\n",
            "(26,)\n"
          ],
          "name": "stdout"
        }
      ]
    },
    {
      "cell_type": "markdown",
      "metadata": {
        "id": "iEbExpzSQWh9"
      },
      "source": [
        "## building classification model \r\n",
        "### first let try KNN \r\n"
      ]
    },
    {
      "cell_type": "code",
      "metadata": {
        "id": "XqM7NamfQhRR"
      },
      "source": [
        "from sklearn.tree import DecisionTreeClassifier\r\n",
        "from sklearn import metrics\r\n"
      ],
      "execution_count": 49,
      "outputs": []
    },
    {
      "cell_type": "markdown",
      "metadata": {
        "id": "mRYHypl2To8z"
      },
      "source": [
        "#### cheking for the best choice of K"
      ]
    },
    {
      "cell_type": "code",
      "metadata": {
        "colab": {
          "base_uri": "https://localhost:8080/"
        },
        "id": "HKVYX4kWTm3P",
        "outputId": "04995c2b-4f14-424c-ac7f-8410dedf57e6"
      },
      "source": [
        "DT_model = DecisionTreeClassifier(criterion=\"gini\")\r\n",
        "print(DT_model)"
      ],
      "execution_count": 57,
      "outputs": [
        {
          "output_type": "stream",
          "text": [
            "DecisionTreeClassifier(ccp_alpha=0.0, class_weight=None, criterion='gini',\n",
            "                       max_depth=None, max_features=None, max_leaf_nodes=None,\n",
            "                       min_impurity_decrease=0.0, min_impurity_split=None,\n",
            "                       min_samples_leaf=1, min_samples_split=2,\n",
            "                       min_weight_fraction_leaf=0.0, presort='deprecated',\n",
            "                       random_state=None, splitter='best')\n"
          ],
          "name": "stdout"
        }
      ]
    },
    {
      "cell_type": "code",
      "metadata": {
        "colab": {
          "base_uri": "https://localhost:8080/"
        },
        "id": "qk5WDQZaX971",
        "outputId": "c5c25faf-7793-4404-9435-72946316c7e8"
      },
      "source": [
        "DT_model.fit(X_train,y_train)\r\n",
        "Y_predected=DT_model.predict(X_test)\r\n",
        "\r\n",
        "print(\"test Accuracy: \", metrics.accuracy_score(y_test, DT_model.predict(X_test)))\r\n"
      ],
      "execution_count": 58,
      "outputs": [
        {
          "output_type": "stream",
          "text": [
            "test Accuracy:  0.7692307692307693\n"
          ],
          "name": "stdout"
        }
      ]
    }
  ]
}